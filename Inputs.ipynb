{
 "cells": [
  {
   "cell_type": "code",
   "execution_count": 66,
   "metadata": {},
   "outputs": [
    {
     "data": {
      "text/plain": [
       "array([1, 1, 1, 1, 1, 1, 1, 1, 1, 1, 1, 1, 1, 1, 1, 1, 1, 1, 1, 1, 1, 1,\n",
       "       1, 1, 1, 1, 1, 1, 1, 1, 1, 1, 1, 1, 1, 1, 1, 1, 1, 1, 1, 1, 1, 1,\n",
       "       1, 1, 1, 1, 1, 1, 1, 1, 1, 1, 1, 0, 0, 1, 1, 1, 1, 1, 1, 1, 1, 1,\n",
       "       1, 1, 1, 1, 0, 0, 0, 1, 1, 1, 1, 1, 1, 1, 1, 1, 1, 1, 1, 1, 1, 0,\n",
       "       0, 1, 1, 1, 1, 1, 1, 1, 1, 1, 1, 1, 1, 1, 1, 0, 0, 1, 1, 1, 1, 1,\n",
       "       1, 1, 1, 1, 1, 1, 1, 1, 1, 0, 0, 1, 1, 1, 1, 1, 1, 1, 1, 1, 1, 1,\n",
       "       1, 1, 1, 0, 0, 1, 1, 1, 1, 1, 1, 1, 1, 1, 1, 1, 1, 1, 1, 0, 0, 1,\n",
       "       1, 1, 1, 1, 1, 1, 1, 1, 1, 1, 1, 1, 1, 0, 0, 1, 1, 1, 1, 1, 1, 1,\n",
       "       1, 1, 1, 1, 1, 1, 1, 0, 0, 1, 1, 1, 1, 1, 1, 1, 1, 1, 1, 1, 1, 1,\n",
       "       1, 0, 0, 1, 1, 1, 1, 1, 1, 1, 1, 1, 1, 1, 1, 1, 0, 0, 0, 0, 1, 1,\n",
       "       1, 1, 1, 1, 1, 1, 1, 1, 1, 1, 1, 1, 1, 1, 1, 1, 1, 1, 1, 1, 1, 1,\n",
       "       1, 1, 1, 1, 1, 1, 1, 1, 1, 1, 1, 1, 1, 1], dtype=uint8)"
      ]
     },
     "execution_count": 66,
     "metadata": {},
     "output_type": "execute_result"
    }
   ],
   "source": [
    "import PIL\n",
    "import numpy as np\n",
    "from PIL import Image\n",
    "from numpy import asarray\n",
    "import cv2\n",
    "\n",
    "data=[]\n",
    "img0 = cv2.imread('0.jpg')\n",
    "img1 = cv2.imread('1.jpg')\n",
    "img2 = cv2.imread('2.jpg')\n",
    "img3 = cv2.imread('3.jpg')\n",
    "img4 = cv2.imread('4.jpg')\n",
    "img5 = cv2.imread('5.jpg')\n",
    "img6 = cv2.imread('6.jpg')\n",
    "img7 = cv2.imread('7.jpg')\n",
    "img8 = cv2.imread('8.jpg')\n",
    "img9 = cv2.imread('9.jpg')\n",
    "\n",
    "img_gray0 = cv2.cvtColor(img0, cv2.COLOR_BGR2GRAY)\n",
    "img_gray1 = cv2.cvtColor(img1, cv2.COLOR_BGR2GRAY)\n",
    "img_gray2 = cv2.cvtColor(img2, cv2.COLOR_BGR2GRAY)\n",
    "img_gray3 = cv2.cvtColor(img3, cv2.COLOR_BGR2GRAY)\n",
    "img_gray4 = cv2.cvtColor(img4, cv2.COLOR_BGR2GRAY)\n",
    "img_gray5 = cv2.cvtColor(img5, cv2.COLOR_BGR2GRAY)\n",
    "img_gray6 = cv2.cvtColor(img6, cv2.COLOR_BGR2GRAY)\n",
    "img_gray7 = cv2.cvtColor(img7, cv2.COLOR_BGR2GRAY)\n",
    "img_gray8 = cv2.cvtColor(img8, cv2.COLOR_BGR2GRAY)\n",
    "img_gray9 = cv2.cvtColor(img9, cv2.COLOR_BGR2GRAY)\n",
    "\n",
    "(threshi, img_0) = cv2.threshold(img_gray, 0, 1, cv2.THRESH_BINARY | cv2.THRESH_OTSU)\n",
    "(threshi, img_1) = cv2.threshold(img_gray, 0, 1, cv2.THRESH_BINARY | cv2.THRESH_OTSU)\n",
    "(threshi, img_2) = cv2.threshold(img_gray, 0, 1, cv2.THRESH_BINARY | cv2.THRESH_OTSU)\n",
    "(threshi, img_3) = cv2.threshold(img_gray, 0, 1, cv2.THRESH_BINARY | cv2.THRESH_OTSU)\n",
    "(threshi, img_4) = cv2.threshold(img_gray, 0, 1, cv2.THRESH_BINARY | cv2.THRESH_OTSU)\n",
    "(threshi, img_5) = cv2.threshold(img_gray, 0, 1, cv2.THRESH_BINARY | cv2.THRESH_OTSU)\n",
    "(threshi, img_6) = cv2.threshold(img_gray, 0, 1, cv2.THRESH_BINARY | cv2.THRESH_OTSU)\n",
    "(threshi, img_7) = cv2.threshold(img_gray, 0, 1, cv2.THRESH_BINARY | cv2.THRESH_OTSU)\n",
    "(threshi, img_8) = cv2.threshold(img_gray, 0, 1, cv2.THRESH_BINARY | cv2.THRESH_OTSU)\n",
    "(threshi, img_9) = cv2.threshold(img_gray, 0, 1, cv2.THRESH_BINARY | cv2.THRESH_OTSU)\n",
    "\n",
    "data.append(asarray(img_0))\n",
    "data.append(asarray(img_1))\n",
    "data.append(asarray(img_2))\n",
    "data.append(asarray(img_3))\n",
    "data.append(asarray(img_4))\n",
    "data.append(asarray(img_5))\n",
    "data.append(asarray(img_6))\n",
    "data.append(asarray(img_7))\n",
    "data.append(asarray(img_8))\n",
    "data.append(asarray(img_9))\n",
    "\n",
    "data[0].flatten()"
   ]
  },
  {
   "cell_type": "code",
   "execution_count": null,
   "metadata": {},
   "outputs": [],
   "source": []
  }
 ],
 "metadata": {
  "kernelspec": {
   "display_name": "Python 3",
   "language": "python",
   "name": "python3"
  },
  "language_info": {
   "codemirror_mode": {
    "name": "ipython",
    "version": 3
   },
   "file_extension": ".py",
   "mimetype": "text/x-python",
   "name": "python",
   "nbconvert_exporter": "python",
   "pygments_lexer": "ipython3",
   "version": "3.7.6"
  }
 },
 "nbformat": 4,
 "nbformat_minor": 4
}
