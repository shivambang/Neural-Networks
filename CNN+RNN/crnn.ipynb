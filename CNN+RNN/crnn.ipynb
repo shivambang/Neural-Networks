{
 "cells": [
  {
   "cell_type": "code",
   "execution_count": 22,
   "metadata": {},
   "outputs": [],
   "source": [
    "import io\n",
    "import cv2\n",
    "\n",
    "import numpy as np\n",
    "import random \n",
    "import pandas as pd\n",
    "from sklearn.preprocessing import MinMaxScaler\n",
    "from scipy.stats import pearsonr\n",
    "from datetime import datetime\n",
    "# import torch\n",
    "# import torch.nn as nn\n",
    "# from torch.autograd import Variable\n",
    "import matplotlib.pyplot as plt"
   ]
  },
  {
   "cell_type": "code",
   "execution_count": 23,
   "metadata": {},
   "outputs": [
    {
     "data": {
      "text/html": [
       "<div>\n",
       "<style scoped>\n",
       "    .dataframe tbody tr th:only-of-type {\n",
       "        vertical-align: middle;\n",
       "    }\n",
       "\n",
       "    .dataframe tbody tr th {\n",
       "        vertical-align: top;\n",
       "    }\n",
       "\n",
       "    .dataframe thead th {\n",
       "        text-align: right;\n",
       "    }\n",
       "</style>\n",
       "<table border=\"1\" class=\"dataframe\">\n",
       "  <thead>\n",
       "    <tr style=\"text-align: right;\">\n",
       "      <th></th>\n",
       "      <th>Close</th>\n",
       "      <th>PE_CAPE</th>\n",
       "    </tr>\n",
       "    <tr>\n",
       "      <th>Date</th>\n",
       "      <th></th>\n",
       "      <th></th>\n",
       "    </tr>\n",
       "  </thead>\n",
       "  <tbody>\n",
       "    <tr>\n",
       "      <th>1960-01-04</th>\n",
       "      <td>59.910000</td>\n",
       "      <td>18.338285</td>\n",
       "    </tr>\n",
       "    <tr>\n",
       "      <th>1960-01-05</th>\n",
       "      <td>60.389999</td>\n",
       "      <td>18.338285</td>\n",
       "    </tr>\n",
       "    <tr>\n",
       "      <th>1960-01-06</th>\n",
       "      <td>60.130001</td>\n",
       "      <td>18.338285</td>\n",
       "    </tr>\n",
       "    <tr>\n",
       "      <th>1960-01-07</th>\n",
       "      <td>59.689999</td>\n",
       "      <td>18.338285</td>\n",
       "    </tr>\n",
       "    <tr>\n",
       "      <th>1960-01-08</th>\n",
       "      <td>59.500000</td>\n",
       "      <td>18.338285</td>\n",
       "    </tr>\n",
       "    <tr>\n",
       "      <th>...</th>\n",
       "      <td>...</td>\n",
       "      <td>...</td>\n",
       "    </tr>\n",
       "    <tr>\n",
       "      <th>2021-12-27</th>\n",
       "      <td>4791.190000</td>\n",
       "      <td>38.660000</td>\n",
       "    </tr>\n",
       "    <tr>\n",
       "      <th>2021-12-28</th>\n",
       "      <td>4786.350000</td>\n",
       "      <td>38.660000</td>\n",
       "    </tr>\n",
       "    <tr>\n",
       "      <th>2021-12-29</th>\n",
       "      <td>4793.060000</td>\n",
       "      <td>38.660000</td>\n",
       "    </tr>\n",
       "    <tr>\n",
       "      <th>2021-12-30</th>\n",
       "      <td>4778.730000</td>\n",
       "      <td>38.660000</td>\n",
       "    </tr>\n",
       "    <tr>\n",
       "      <th>2021-12-31</th>\n",
       "      <td>4766.180000</td>\n",
       "      <td>38.660000</td>\n",
       "    </tr>\n",
       "  </tbody>\n",
       "</table>\n",
       "<p>15606 rows × 2 columns</p>\n",
       "</div>"
      ],
      "text/plain": [
       "                  Close    PE_CAPE\n",
       "Date                              \n",
       "1960-01-04    59.910000  18.338285\n",
       "1960-01-05    60.389999  18.338285\n",
       "1960-01-06    60.130001  18.338285\n",
       "1960-01-07    59.689999  18.338285\n",
       "1960-01-08    59.500000  18.338285\n",
       "...                 ...        ...\n",
       "2021-12-27  4791.190000  38.660000\n",
       "2021-12-28  4786.350000  38.660000\n",
       "2021-12-29  4793.060000  38.660000\n",
       "2021-12-30  4778.730000  38.660000\n",
       "2021-12-31  4766.180000  38.660000\n",
       "\n",
       "[15606 rows x 2 columns]"
      ]
     },
     "execution_count": 23,
     "metadata": {},
     "output_type": "execute_result"
    }
   ],
   "source": [
    "df = pd.read_csv('data.csv')\n",
    "df = df.drop(columns=['Open', 'Low', 'High'])\n",
    "df = df.set_index('Date')\n",
    "df"
   ]
  },
  {
   "cell_type": "code",
   "execution_count": 24,
   "metadata": {},
   "outputs": [],
   "source": [
    "date = df.index.to_numpy()\n",
    "close = df['Close'].to_numpy()\n",
    "pe = df['PE_CAPE'].to_numpy()\n",
    "close_lag = []\n",
    "pe_lag = []\n",
    "r = []\n",
    "for i in range(180, len(close)):\n",
    "    x = close[i-180:i]\n",
    "    y = pe[i-180:i]\n",
    "    close_lag.append(x)\n",
    "    pe_lag.append(y)\n",
    "    r.append(pearsonr(x, y)[0])\n",
    "close_lag = np.array(close_lag)\n",
    "pe_lag = np.array(pe_lag)\n",
    "r = np.array(r)\n",
    "close_value = close[180:]\n",
    "pe_value = pe[180:]"
   ]
  },
  {
   "cell_type": "code",
   "execution_count": 25,
   "metadata": {},
   "outputs": [],
   "source": [
    "from scipy.signal import argrelextrema\n",
    "time = ['1960-01-01']\n",
    "money = [1]\n",
    "i = 0\n",
    "while i < len(close_value):\n",
    "    if r[i] > 0.9 and pe_lag[i,0] < pe_lag[i,-1]:\n",
    "        buy = close_lag[i, argrelextrema(close_lag[i,:], np.less)[0][0]]\n",
    "        sell = close_value[i]\n",
    "        money.append(money[-1] * sell / buy)\n",
    "        time.append(date[180+i])\n",
    "        i += 180\n",
    "    else:\n",
    "        i += 1"
   ]
  },
  {
   "cell_type": "code",
   "execution_count": 26,
   "metadata": {},
   "outputs": [
    {
     "data": {
      "text/plain": [
       "[<matplotlib.lines.Line2D at 0x2b5cb3b2f610>]"
      ]
     },
     "execution_count": 26,
     "metadata": {},
     "output_type": "execute_result"
    },
    {
     "data": {
      "image/png": "[encoded data removed]",
      "text/plain": [
       "<Figure size 720x360 with 1 Axes>"
      ]
     },
     "metadata": {
      "needs_background": "light"
     },
     "output_type": "display_data"
    }
   ],
   "source": [
    "plt.figure(figsize=(10,5))\n",
    "plt.plot(time, money)"
   ]
  },
  {
   "cell_type": "code",
   "execution_count": 27,
   "metadata": {},
   "outputs": [],
   "source": [
    "v = 0\n",
    "prn = set()\n",
    "while v < len(close_value):\n",
    "    mini = argrelextrema(close_lag[v,:], np.less)[0]\n",
    "    maxi = argrelextrema(close_lag[v,:], np.greater)[0]\n",
    "    i = 0; j = 1; k = 0\n",
    "    while j < len(maxi) and k < len(mini):\n",
    "        if mini[k] < maxi[j]:\n",
    "            k += 1\n",
    "            continue\n",
    "        if close_lag[v, maxi[i]] < close_lag[v, maxi[j]] and close_lag[v, maxi[j]] < close_lag[v, maxi[-1]]:\n",
    "            # diff within 1%\n",
    "            if abs(close_lag[v, maxi[i]] - close_lag[v, mini[k]]) < 0.01 * close_lag[v, maxi[i]]:\n",
    "                prn.add(v)\n",
    "        i += 1\n",
    "        j += 1\n",
    "    v += 1"
   ]
  },
  {
   "cell_type": "code",
   "execution_count": 28,
   "metadata": {},
   "outputs": [
    {
     "data": {
      "text/plain": [
       "1644"
      ]
     },
     "execution_count": 28,
     "metadata": {},
     "output_type": "execute_result"
    }
   ],
   "source": [
    "abcd = []\n",
    "for v in prn:    \n",
    "    if close_lag[v,-1] == np.max(close_lag[v,:]):\n",
    "        abcd.append(v)\n",
    "len(abcd)"
   ]
  },
  {
   "cell_type": "code",
   "execution_count": 29,
   "metadata": {},
   "outputs": [
    {
     "data": {
      "text/plain": [
       "2135"
      ]
     },
     "execution_count": 29,
     "metadata": {},
     "output_type": "execute_result"
    }
   ],
   "source": [
    "oos = list(set([i for i in range(len(close_value))]) - prn)\n",
    "len(oos)"
   ]
  },
  {
   "cell_type": "code",
   "execution_count": 30,
   "metadata": {},
   "outputs": [],
   "source": [
    "# def fig2img(fig, dpi=180):\n",
    "#     buf = io.BytesIO()\n",
    "#     fig.savefig(buf, format=\"png\", dpi=dpi)\n",
    "#     buf.seek(0)\n",
    "#     img_arr = np.frombuffer(buf.getvalue(), dtype=np.uint8)\n",
    "#     buf.close()\n",
    "#     img = cv2.imdecode(img_arr, 1)\n",
    "#     img = cv2.cvtColor(img, cv2.COLOR_BGR2GRAY)\n",
    "#     img = cv2.resize(img,(50,50),interpolation = cv2.INTER_AREA).astype(np.uint8)\n",
    "\n",
    "#     return img\n",
    "\n",
    "# data = []\n",
    "# plt.figure(figsize=(5,5))\n",
    "# for i in oos:\n",
    "#     fig = plt.gcf()\n",
    "#     plt.plot(range(180), close_lag[i,:])\n",
    "#     plt.axis('off');\n",
    "#     data.append(fig2img(fig).flatten())\n",
    "#     plt.clf()\n",
    "# for i in abcd:\n",
    "#     fig = plt.gcf()\n",
    "#     plt.plot(range(180), close_lag[i,:])\n",
    "#     plt.axis('off');\n",
    "#     data.append(fig2img(fig).flatten())\n",
    "#     plt.clf()\n",
    "# for i in dcba:\n",
    "#     fig = plt.gcf()\n",
    "#     plt.plot(range(180), close_lag[i,:])\n",
    "#     plt.axis('off');\n",
    "#     data.append(fig2img(fig).flatten())\n",
    "#     plt.clf()\n",
    "# data = np.array(data)\n",
    "# np.save('data', data)"
   ]
  },
  {
   "cell_type": "code",
   "execution_count": 31,
   "metadata": {},
   "outputs": [],
   "source": [
    "# labels = np.array([0]*len(oos) + [1]*len(abcd) + [2]*len(dcba))\n",
    "# np.save('labels', labels)"
   ]
  },
  {
   "cell_type": "code",
   "execution_count": null,
   "metadata": {},
   "outputs": [],
   "source": []
  },
  {
   "cell_type": "code",
   "execution_count": 32,
   "metadata": {},
   "outputs": [
    {
     "name": "stdout",
     "output_type": "stream",
     "text": [
      "(3779, 2500) (3779,)\n"
     ]
    },
    {
     "data": {
      "image/png": "[encoded data removed]",
      "text/plain": [
       "<Figure size 432x288 with 1 Axes>"
      ]
     },
     "metadata": {
      "needs_background": "light"
     },
     "output_type": "display_data"
    }
   ],
   "source": [
    "from sklearn.model_selection import GridSearchCV, StratifiedKFold, train_test_split\n",
    "from sklearn.naive_bayes import GaussianNB\n",
    "import tensorflow as tf\n",
    "from tensorflow.keras.utils import to_categorical\n",
    "from tensorflow.keras.models import Sequential, load_model\n",
    "from keras.wrappers.scikit_learn import KerasClassifier\n",
    "from keras.constraints import maxnorm\n",
    "from tensorflow.keras.layers import Conv2D, Dropout, MaxPooling2D, Dense, Flatten\n",
    "from tensorflow.keras.losses import SparseCategoricalCrossentropy\n",
    "from tensorflow.keras.optimizers import SGD, Adam\n",
    "from sklearn.metrics import accuracy_score, confusion_matrix, ConfusionMatrixDisplay, roc_curve\n",
    "from tensorflow.keras.layers import BatchNormalization\n",
    "from numpy import mean, std\n",
    "from matplotlib import pyplot as plt\n",
    "import numpy as np\n",
    "import pandas as pd\n",
    "import numpy.random as npr\n",
    "import matplotlib.pyplot as plt\n",
    "%matplotlib inline\n",
    "plt.style.use('bmh')\n",
    "\n",
    "# Loading Data\n",
    "data = np.load('data.npy')\n",
    "labels = np.load('labels.npy')\n",
    "data_train = data\n",
    "labels_train = labels\n",
    "print(data_train.shape, labels_train.shape)\n",
    "\n",
    "# Counting number samples per class\n",
    "vals, counts = np.unique(labels_train, return_counts=True)\n",
    "\n",
    "plt.bar(vals, counts)\n",
    "plt.xticks(range(10),range(10))\n",
    "plt.xlabel('Classes',size=20)\n",
    "plt.ylabel('# Samples per Class', size=20)\n",
    "plt.title('Training Data (Total = '+str(data_train.shape[1])+' samples)',size=15);"
   ]
  },
  {
   "cell_type": "code",
   "execution_count": 33,
   "metadata": {},
   "outputs": [],
   "source": [
    "df_test = df['2014-01-01':]\n",
    "close_test = df_test['Close'].to_numpy()\n",
    "pe_test = df_test['PE_CAPE'].to_numpy()\n",
    "cmin = close_test.min()\n",
    "cmax = close_test.max()\n",
    "close_test = (close_test - cmin) / (cmax - cmin)\n",
    "pe_test = (pe_test - pe_test.min()) / (pe_test.max() - pe_test.min())"
   ]
  },
  {
   "cell_type": "code",
   "execution_count": 34,
   "metadata": {},
   "outputs": [],
   "source": [
    "close_lag_test = []\n",
    "pe_lag_test = []\n",
    "for i in range(180, len(close_test)):\n",
    "    close_lag_test.append(close_test[i-180:i])\n",
    "    pe_lag_test.append(pe_test[i-180:i])\n",
    "close_lag_test = np.array(close_lag_test)\n",
    "pe_lag_test = np.array(pe_lag_test)\n",
    "close_value_test = close_test[180:]"
   ]
  },
  {
   "cell_type": "code",
   "execution_count": 35,
   "metadata": {},
   "outputs": [
    {
     "name": "stdout",
     "output_type": "stream",
     "text": [
      "(2834, 50, 50, 1) (2834, 2) (945, 50, 50, 1) (945,)\n",
      "Model Defined\n",
      "Epoch 1/10\n",
      "178/178 [==============================] - 1s 3ms/step - loss: 1.5095 - accuracy: 0.7689\n",
      "Epoch 2/10\n",
      "178/178 [==============================] - 1s 3ms/step - loss: 0.7213 - accuracy: 0.8973\n",
      "Epoch 3/10\n",
      "178/178 [==============================] - 1s 3ms/step - loss: 0.4629 - accuracy: 0.9259\n",
      "Epoch 4/10\n",
      "178/178 [==============================] - 1s 3ms/step - loss: 0.4272 - accuracy: 0.9347\n",
      "Epoch 5/10\n",
      "178/178 [==============================] - 1s 3ms/step - loss: 0.3812 - accuracy: 0.9421\n",
      "Epoch 6/10\n",
      "178/178 [==============================] - 2s 10ms/step - loss: 0.2735 - accuracy: 0.9517\n",
      "Epoch 7/10\n",
      "178/178 [==============================] - 1s 3ms/step - loss: 0.2820 - accuracy: 0.9531\n",
      "Epoch 8/10\n",
      "178/178 [==============================] - 0s 3ms/step - loss: 0.2461 - accuracy: 0.9559\n",
      "Epoch 9/10\n",
      "178/178 [==============================] - 0s 3ms/step - loss: 0.1704 - accuracy: 0.9654\n",
      "Epoch 10/10\n",
      "178/178 [==============================] - 0s 3ms/step - loss: 0.1960 - accuracy: 0.9672\n",
      "Confusion Matrix :-   [[530   4]\n",
      " [  6 405]]\n"
     ]
    }
   ],
   "source": [
    "word_dict = {0:'SEll',1:'HOLD'}\n",
    "import argparse\n",
    "import skimage as sk\n",
    "from sklearn.model_selection import cross_val_score\n",
    "from sklearn.neighbors import KNeighborsClassifier\n",
    "from sklearn.linear_model import LogisticRegression\n",
    "from sklearn.multiclass import OneVsRestClassifier\n",
    "from skimage import transform\n",
    "from skimage import util\n",
    "from sklearn.preprocessing import StandardScaler, label_binarize\n",
    "import cv2\n",
    "\n",
    "\n",
    "\n",
    "# load train and test dataset\n",
    "def load_dataset():\n",
    "    # load dataset\n",
    "    kernel = np.ones((4,4),np.uint8)\n",
    "    trainX, testX, trainY, testY = train_test_split(data_train, labels_train, test_size = 0.25, stratify=labels_train)\n",
    "    # reshape dataset to have a single channel\n",
    "    trainX = trainX.reshape((trainX.shape[0], 50, 50, 1))\n",
    "    testX = testX.reshape((testX.shape[0], 50, 50, 1))\n",
    "    # one hot encode target values\n",
    "    trainY = to_categorical(trainY)\n",
    "#     testY = to_categorical(testY)\n",
    "    print(trainX.shape, trainY.shape, testX.shape, testY.shape)\n",
    "    return trainX, trainY, testX, testY\n",
    " \n",
    "# scale pixels\n",
    "def prep_pixels(data):\n",
    "    # convert from integers to floats\n",
    "    data = data.astype('float32')\n",
    "    # he_uniformize to range 0-1\n",
    "    data = (255.0 - (data))\n",
    "    data = data/255.0\n",
    "    # return he_uniformized images\n",
    "    return data\n",
    " \n",
    "# define cnn model\n",
    "def define_model(learn_rate=0.0001, eps=1e-7, dropout_rate=0.5):\n",
    "    model = Sequential()\n",
    "    model.add(Conv2D(16, (3, 3), activation='relu', kernel_initializer='he_uniform', input_shape=(50, 50, 1)))\n",
    "    model.add(BatchNormalization())\n",
    "    model.add(MaxPooling2D((2, 2)))\n",
    "    model.add(Dropout(dropout_rate))\n",
    "    model.add(Conv2D(16, (3, 3), activation='relu', kernel_initializer='he_uniform'))\n",
    "    model.add(BatchNormalization())\n",
    "    model.add(MaxPooling2D((4, 4)))\n",
    "    model.add(Dropout(dropout_rate))\n",
    "    model.add(Flatten(name='feat_cnn'))\n",
    "    model.add(Dense(256, activation='relu', kernel_initializer='he_uniform'))\n",
    "    model.add(Dropout(dropout_rate))\n",
    "    model.add(Dense(2, activation='softmax'))\n",
    "    # compile model\n",
    "    opt = Adam(learning_rate=learn_rate , epsilon=eps)\n",
    "    model.compile(optimizer=opt, loss='categorical_crossentropy', metrics=['accuracy'])\n",
    "    return model\n",
    " \n",
    "# evaluate a model using k-fold cross-validation\n",
    "def evaluate_model(dataX, dataY, tes_X, tes_y,n_folds=20):\n",
    "    scores, histories = list(), list()\n",
    "\n",
    "#     parameters = {'batch_size': [16], 'epochs': [25], 'dropout_rate': [0.5], \n",
    "#                   'learn_rate' : [0.0001],\n",
    "#                   'eps' : [1e-7]}\n",
    "    model = define_model()\n",
    "    print(\"Model Defined\")\n",
    "    model.fit(dataX, dataY,epochs=10, batch_size=16)\n",
    "    y_pr = model.predict(tes_X)[:,0]\n",
    "    y_pr[y_pr>0.5]=0.5\n",
    "    y_pr[y_pr<0.5]=1\n",
    "    y_pr[y_pr==0.5]=0\n",
    "    print(\"Confusion Matrix :-  \",confusion_matrix(tes_y,y_pr))\n",
    "    return model,scores, histories\n",
    " \n",
    "# run the test harness for evaluating a model\n",
    "def run_test_harness():\n",
    "    # load dataset\n",
    "\n",
    "    trainX, trainY, testX, testY = load_dataset()\n",
    "    # evaluate model\n",
    "    model, scores, histories = evaluate_model(trainX, trainY, testX, testY)\n",
    "\n",
    "    return model\n",
    "# entry point, run the test harness\n",
    "cnn = run_test_harness()"
   ]
  },
  {
   "cell_type": "code",
   "execution_count": 43,
   "metadata": {
    "tags": []
   },
   "outputs": [],
   "source": [
    "img_train = []\n",
    "for i in range(1, 15):\n",
    "    k = np.load(f'img_train_{i*1000}.npy')\n",
    "    img_train += list(k)\n",
    "\n",
    "img_train = np.array(img_train)\n",
    "img_train = img_train.reshape(((img_train.shape[0], 50, 50, 1)))"
   ]
  },
  {
   "cell_type": "code",
   "execution_count": 44,
   "metadata": {},
   "outputs": [],
   "source": [
    "df_train = df['1960-01-01':'2014-12-31']\n",
    "df_train = (df_train - df_train.min()) / (df_train.max() - df_train.min())"
   ]
  },
  {
   "cell_type": "code",
   "execution_count": 45,
   "metadata": {},
   "outputs": [],
   "source": [
    "close_train = df_train['Close'].to_numpy()\n",
    "pe_train = df_train['PE_CAPE'].to_numpy()\n",
    "close_lag_train = []\n",
    "pe_lag_train = []\n",
    "for i in range(180, len(close_train)):\n",
    "    close_lag_train.append(close_train[i-180:i])\n",
    "    pe_lag_train.append(pe_train[i-180:i])\n",
    "close_lag_train = np.array(close_lag_train)\n",
    "pe_lag_train = np.array(pe_lag_train)\n",
    "close_value_train = close_train[180:]"
   ]
  },
  {
   "cell_type": "code",
   "execution_count": 46,
   "metadata": {},
   "outputs": [],
   "source": [
    "from tensorflow.keras.models import Sequential\n",
    "from tensorflow.keras.layers import Dense, GRU\n",
    "from tensorflow.keras.optimizers import SGD, Adam\n",
    "from tensorflow.keras.layers import Dropout\n",
    "import tensorflow as tf\n",
    "def set_seed(seed):  \n",
    "    random.seed(seed)\n",
    "    np.random.seed(seed)\n",
    "    tf.random.set_seed(seed)\n",
    "def rnn(shape, lr=0.001, eps=1e-7, dop=0.4):\n",
    "    set_seed(42)\n",
    "    model = Sequential()\n",
    "    model.add(GRU(128, input_shape=shape, return_sequences=True, activation='tanh'))\n",
    "    model.add(Dropout(dop))\n",
    "    model.add(GRU(128, activation='tanh'))\n",
    "    model.add(Dropout(dop))\n",
    "    model.add(Dense(1))\n",
    "    opt = Adam(learning_rate=lr , epsilon=eps)\n",
    "    model.compile(loss='mean_squared_error',  optimizer=opt,metrics = ['mse', 'mae'])\n",
    "    return model"
   ]
  },
  {
   "cell_type": "code",
   "execution_count": 47,
   "metadata": {},
   "outputs": [],
   "source": [
    "trainX = np.hstack((close_lag_train, pe_lag_train, cnn.predict(img_train)))\n",
    "trainX = trainX.reshape((trainX.shape[0], trainX.shape[1], 1))"
   ]
  },
  {
   "cell_type": "code",
   "execution_count": 48,
   "metadata": {},
   "outputs": [
    {
     "name": "stdout",
     "output_type": "stream",
     "text": [
      "Epoch 1/25\n",
      "854/854 [==============================] - 31s 34ms/step - loss: 0.0397 - mse: 0.0397 - mae: 0.1505\n",
      "Epoch 2/25\n",
      "854/854 [==============================] - 28s 33ms/step - loss: 0.0343 - mse: 0.0343 - mae: 0.1339\n",
      "Epoch 3/25\n",
      "854/854 [==============================] - 27s 32ms/step - loss: 0.0325 - mse: 0.0325 - mae: 0.1264\n",
      "Epoch 4/25\n",
      "854/854 [==============================] - 28s 32ms/step - loss: 0.0314 - mse: 0.0314 - mae: 0.1235 \n",
      "Epoch 5/25\n",
      "854/854 [==============================] - 28s 32ms/step - loss: 0.0309 - mse: 0.0309 - mae: 0.1218\n",
      "Epoch 6/25\n",
      "854/854 [==============================] - 27s 32ms/step - loss: 0.0305 - mse: 0.0305 - mae: 0.1206\n",
      "Epoch 7/25\n",
      "854/854 [==============================] - 28s 33ms/step - loss: 0.0214 - mse: 0.0214 - mae: 0.0993\n",
      "Epoch 8/25\n",
      "854/854 [==============================] - 28s 33ms/step - loss: 0.0030 - mse: 0.0030 - mae: 0.0383\n",
      "Epoch 9/25\n",
      "854/854 [==============================] - 28s 33ms/step - loss: 0.0013 - mse: 0.0013 - mae: 0.0259\n",
      "Epoch 10/25\n",
      "854/854 [==============================] - 27s 31ms/step - loss: 0.0012 - mse: 0.0012 - mae: 0.0244\n",
      "Epoch 11/25\n",
      "854/854 [==============================] - 27s 32ms/step - loss: 0.0011 - mse: 0.0011 - mae: 0.0236\n",
      "Epoch 12/25\n",
      "854/854 [==============================] - 28s 33ms/step - loss: 9.4044e-04 - mse: 9.4044e-04 - mae: 0.0224\n",
      "Epoch 13/25\n",
      "854/854 [==============================] - 28s 33ms/step - loss: 0.0013 - mse: 0.0013 - mae: 0.0255\n",
      "Epoch 14/25\n",
      "854/854 [==============================] - 27s 32ms/step - loss: 0.0011 - mse: 0.0011 - mae: 0.0238\n",
      "Epoch 15/25\n",
      "854/854 [==============================] - 28s 32ms/step - loss: 9.5203e-04 - mse: 9.5203e-04 - mae: 0.0228\n",
      "Epoch 16/25\n",
      "854/854 [==============================] - 27s 32ms/step - loss: 9.2395e-04 - mse: 9.2395e-04 - mae: 0.0224\n",
      "Epoch 17/25\n",
      "854/854 [==============================] - 28s 33ms/step - loss: 8.2886e-04 - mse: 8.2886e-04 - mae: 0.0212 2s - loss: 8.2055e- - ETA: 0s - loss: 8.3140e-04 - mse: 8.3140e-04 - mae: \n",
      "Epoch 18/25\n",
      "854/854 [==============================] - 27s 32ms/step - loss: 7.9887e-04 - mse: 7.9887e-04 - mae: 0.0209\n",
      "Epoch 19/25\n",
      "854/854 [==============================] - 27s 32ms/step - loss: 7.7361e-04 - mse: 7.7361e-04 - mae: 0.0206\n",
      "Epoch 20/25\n",
      "854/854 [==============================] - 27s 32ms/step - loss: 7.7713e-04 - mse: 7.7713e-04 - mae: 0.0205\n",
      "Epoch 21/25\n",
      "854/854 [==============================] - 27s 32ms/step - loss: 7.6661e-04 - mse: 7.6661e-04 - mae: 0.0204\n",
      "Epoch 22/25\n",
      "854/854 [==============================] - 27s 32ms/step - loss: 7.7897e-04 - mse: 7.7897e-04 - mae: 0.0205\n",
      "Epoch 23/25\n",
      "854/854 [==============================] - 28s 33ms/step - loss: 7.3871e-04 - mse: 7.3871e-04 - mae: 0.0201\n",
      "Epoch 24/25\n",
      "854/854 [==============================] - 27s 32ms/step - loss: 7.3682e-04 - mse: 7.3682e-04 - mae: 0.0200\n",
      "Epoch 25/25\n",
      "854/854 [==============================] - 28s 33ms/step - loss: 7.2505e-04 - mse: 7.2505e-04 - mae: 0.0198\n"
     ]
    },
    {
     "data": {
      "text/plain": [
       "<keras.callbacks.History at 0x2b5cb462cbe0>"
      ]
     },
     "execution_count": 48,
     "metadata": {},
     "output_type": "execute_result"
    }
   ],
   "source": [
    "model = rnn((trainX.shape[1], 1), lr=0.001)\n",
    "model.fit(trainX, close_value_train, epochs=25, batch_size=16)"
   ]
  },
  {
   "cell_type": "code",
   "execution_count": 49,
   "metadata": {},
   "outputs": [],
   "source": [
    "img_test = np.load('img_test.npy')\n",
    "img_test = img_test.reshape((img_test.shape[0], 50, 50, 1))"
   ]
  },
  {
   "cell_type": "code",
   "execution_count": 50,
   "metadata": {},
   "outputs": [],
   "source": []
  },
  {
   "cell_type": "code",
   "execution_count": 51,
   "metadata": {},
   "outputs": [],
   "source": []
  },
  {
   "cell_type": "code",
   "execution_count": 52,
   "metadata": {},
   "outputs": [],
   "source": [
    "close_value_test = close_value_test*(cmax - cmin) + cmin"
   ]
  },
  {
   "cell_type": "code",
   "execution_count": 53,
   "metadata": {},
   "outputs": [
    {
     "data": {
      "text/plain": [
       "[<matplotlib.lines.Line2D at 0x2b5cfbbb4940>]"
      ]
     },
     "execution_count": 53,
     "metadata": {},
     "output_type": "execute_result"
    },
    {
     "data": {
      "image/png": "[encoded data removed]",
      "text/plain": [
       "<Figure size 432x288 with 1 Axes>"
      ]
     },
     "metadata": {
      "needs_background": "light"
     },
     "output_type": "display_data"
    }
   ],
   "source": []
  },
  {
   "cell_type": "code",
   "execution_count": 65,
   "metadata": {},
   "outputs": [],
   "source": [
    "testX = np.hstack((close_lag_test, pe_lag_test, cnn.predict(img_test)))\n",
    "testX = testX.reshape((testX.shape[0], testX.shape[1], 1))\n",
    "day1 = model.predict(testX)"
   ]
  },
  {
   "cell_type": "code",
   "execution_count": 66,
   "metadata": {},
   "outputs": [],
   "source": [
    "lag2 = np.hstack((close_lag_test, day1))\n",
    "lag2 = lag2[:,1:]\n",
    "test2 = np.hstack((lag2, pe_lag_test, cnn.predict(img_test)))\n",
    "test2 = test2.reshape((test2.shape[0], test2.shape[1], 1))\n",
    "day2 = model.predict(test2)"
   ]
  },
  {
   "cell_type": "code",
   "execution_count": 67,
   "metadata": {},
   "outputs": [],
   "source": [
    "lag3 = np.hstack((lag2, day2))\n",
    "lag3 = lag3[:,1:]\n",
    "test3 = np.hstack((lag3, pe_lag_test, cnn.predict(img_test)))\n",
    "test3 = test2.reshape((test3.shape[0], test3.shape[1], 1))\n",
    "day3 = model.predict(test3)"
   ]
  },
  {
   "cell_type": "code",
   "execution_count": 68,
   "metadata": {},
   "outputs": [],
   "source": [
    "lag4 = np.hstack((lag3, day3))\n",
    "lag4 = lag4[:,1:]\n",
    "test4 = np.hstack((lag4, pe_lag_test, cnn.predict(img_test)))\n",
    "test4 = test2.reshape((test4.shape[0] test4.shape[1], 1))\n",
    "day4 = model.predict(test4)"
   ]
  },
  {
   "cell_type": "code",
   "execution_count": 69,
   "metadata": {},
   "outputs": [],
   "source": [
    "day1 = day1*(cmax - cmin) + cmin\n",
    "day2 = day2*(cmax - cmin) + cmin\n",
    "day3 = day3*(cmax - cmin) + cmin\n",
    "day4 = day4*(cmax - cmin) + cmin"
   ]
  }
 ],
 "metadata": {
  "interpreter": {
   "hash": "e9a4fb13b1248be0797f285598b88d760e91a53256e9f9e9795c7dafa40ee22e"
  },
  "kernelspec": {
   "display_name": "Tensorflow-2.6.0",
   "language": "python",
   "name": "tensorflow-2.6.0"
  },
  "language_info": {
   "codemirror_mode": {
    "name": "ipython",
    "version": 3
   },
   "file_extension": ".py",
   "mimetype": "text/x-python",
   "name": "python",
   "nbconvert_exporter": "python",
   "pygments_lexer": "ipython3",
   "version": "3.9.7"
  }
 },
 "nbformat": 4,
 "nbformat_minor": 4
}
