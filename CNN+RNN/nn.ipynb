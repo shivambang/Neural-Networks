{
 "cells": [
  {
   "cell_type": "code",
   "execution_count": 92,
   "metadata": {},
   "outputs": [],
   "source": [
    "import io\n",
    "import cv2\n",
    "\n",
    "import numpy as np\n",
    "import random \n",
    "import pandas as pd\n",
    "from sklearn.preprocessing import MinMaxScaler\n",
    "from scipy.stats import pearsonr\n",
    "from datetime import datetime\n",
    "import torch\n",
    "import torch.nn as nn\n",
    "from torch.autograd import Variable\n",
    "import matplotlib.pyplot as plt"
   ]
  },
  {
   "cell_type": "code",
   "execution_count": 93,
   "metadata": {},
   "outputs": [
    {
     "data": {
      "text/html": [
       "<div>\n",
       "<style scoped>\n",
       "    .dataframe tbody tr th:only-of-type {\n",
       "        vertical-align: middle;\n",
       "    }\n",
       "\n",
       "    .dataframe tbody tr th {\n",
       "        vertical-align: top;\n",
       "    }\n",
       "\n",
       "    .dataframe thead th {\n",
       "        text-align: right;\n",
       "    }\n",
       "</style>\n",
       "<table border=\"1\" class=\"dataframe\">\n",
       "  <thead>\n",
       "    <tr style=\"text-align: right;\">\n",
       "      <th></th>\n",
       "      <th>Close</th>\n",
       "      <th>PE_CAPE</th>\n",
       "    </tr>\n",
       "    <tr>\n",
       "      <th>Date</th>\n",
       "      <th></th>\n",
       "      <th></th>\n",
       "    </tr>\n",
       "  </thead>\n",
       "  <tbody>\n",
       "    <tr>\n",
       "      <th>1960-01-04</th>\n",
       "      <td>59.910000</td>\n",
       "      <td>18.338285</td>\n",
       "    </tr>\n",
       "    <tr>\n",
       "      <th>1960-01-05</th>\n",
       "      <td>60.389999</td>\n",
       "      <td>18.338285</td>\n",
       "    </tr>\n",
       "    <tr>\n",
       "      <th>1960-01-06</th>\n",
       "      <td>60.130001</td>\n",
       "      <td>18.338285</td>\n",
       "    </tr>\n",
       "    <tr>\n",
       "      <th>1960-01-07</th>\n",
       "      <td>59.689999</td>\n",
       "      <td>18.338285</td>\n",
       "    </tr>\n",
       "    <tr>\n",
       "      <th>1960-01-08</th>\n",
       "      <td>59.500000</td>\n",
       "      <td>18.338285</td>\n",
       "    </tr>\n",
       "    <tr>\n",
       "      <th>...</th>\n",
       "      <td>...</td>\n",
       "      <td>...</td>\n",
       "    </tr>\n",
       "    <tr>\n",
       "      <th>2021-12-27</th>\n",
       "      <td>4791.190000</td>\n",
       "      <td>38.660000</td>\n",
       "    </tr>\n",
       "    <tr>\n",
       "      <th>2021-12-28</th>\n",
       "      <td>4786.350000</td>\n",
       "      <td>38.660000</td>\n",
       "    </tr>\n",
       "    <tr>\n",
       "      <th>2021-12-29</th>\n",
       "      <td>4793.060000</td>\n",
       "      <td>38.660000</td>\n",
       "    </tr>\n",
       "    <tr>\n",
       "      <th>2021-12-30</th>\n",
       "      <td>4778.730000</td>\n",
       "      <td>38.660000</td>\n",
       "    </tr>\n",
       "    <tr>\n",
       "      <th>2021-12-31</th>\n",
       "      <td>4766.180000</td>\n",
       "      <td>38.660000</td>\n",
       "    </tr>\n",
       "  </tbody>\n",
       "</table>\n",
       "<p>15606 rows × 2 columns</p>\n",
       "</div>"
      ],
      "text/plain": [
       "                  Close    PE_CAPE\n",
       "Date                              \n",
       "1960-01-04    59.910000  18.338285\n",
       "1960-01-05    60.389999  18.338285\n",
       "1960-01-06    60.130001  18.338285\n",
       "1960-01-07    59.689999  18.338285\n",
       "1960-01-08    59.500000  18.338285\n",
       "...                 ...        ...\n",
       "2021-12-27  4791.190000  38.660000\n",
       "2021-12-28  4786.350000  38.660000\n",
       "2021-12-29  4793.060000  38.660000\n",
       "2021-12-30  4778.730000  38.660000\n",
       "2021-12-31  4766.180000  38.660000\n",
       "\n",
       "[15606 rows x 2 columns]"
      ]
     },
     "execution_count": 93,
     "metadata": {},
     "output_type": "execute_result"
    }
   ],
   "source": [
    "df = pd.read_csv('data.csv')\n",
    "df = df.drop(columns=['Open', 'Low', 'High'])\n",
    "df = df.set_index('Date')\n",
    "df"
   ]
  },
  {
   "cell_type": "code",
   "execution_count": 94,
   "metadata": {},
   "outputs": [],
   "source": [
    "date = df.index.to_numpy()\n",
    "close = df['Close'].to_numpy()\n",
    "pe = df['PE_CAPE'].to_numpy()\n",
    "close_lag = []\n",
    "pe_lag = []\n",
    "r = []\n",
    "for i in range(180, len(close)):\n",
    "    x = close[i-180:i]\n",
    "    y = pe[i-180:i]\n",
    "    close_lag.append(x)\n",
    "    pe_lag.append(y)\n",
    "    r.append(pearsonr(x, y)[0])\n",
    "close_lag = np.array(close_lag)\n",
    "pe_lag = np.array(pe_lag)\n",
    "r = np.array(r)\n",
    "close_value = close[180:]\n",
    "pe_value = pe[180:]"
   ]
  },
  {
   "cell_type": "code",
   "execution_count": 95,
   "metadata": {},
   "outputs": [],
   "source": [
    "from scipy.signal import argrelextrema\n",
    "time = ['1960-01-01']\n",
    "money = [1]\n",
    "i = 0\n",
    "while i < len(close_value):\n",
    "    if r[i] > 0.9 and pe_lag[i,0] < pe_lag[i,-1]:\n",
    "        buy = close_lag[i, argrelextrema(close_lag[i,:], np.less)[0][0]]\n",
    "        sell = close_value[i]\n",
    "        money.append(money[-1] * sell / buy)\n",
    "        time.append(date[180+i])\n",
    "        i += 180\n",
    "    else:\n",
    "        i += 1"
   ]
  },
  {
   "cell_type": "code",
   "execution_count": 96,
   "metadata": {},
   "outputs": [
    {
     "data": {
      "text/plain": [
       "[<matplotlib.lines.Line2D at 0x2b4feef6f190>]"
      ]
     },
     "execution_count": 96,
     "metadata": {},
     "output_type": "execute_result"
    },
    {
     "data": {
      "image/png": "[encoded data removed]",
      "text/plain": [
       "<Figure size 720x360 with 1 Axes>"
      ]
     },
     "metadata": {
      "needs_background": "light"
     },
     "output_type": "display_data"
    }
   ],
   "source": [
    "plt.figure(figsize=(10,5))\n",
    "plt.plot(time, money)"
   ]
  },
  {
   "cell_type": "code",
   "execution_count": 97,
   "metadata": {},
   "outputs": [],
   "source": [
    "v = 0\n",
    "prn = set()\n",
    "while v < len(close_value):\n",
    "    mini = argrelextrema(close_lag[v,:], np.less)[0]\n",
    "    maxi = argrelextrema(close_lag[v,:], np.greater)[0]\n",
    "    i = 0; j = 1; k = 0\n",
    "    while j < len(maxi) and k < len(mini):\n",
    "        if mini[k] < maxi[j]:\n",
    "            k += 1\n",
    "            continue\n",
    "        if close_lag[v, maxi[i]] < close_lag[v, maxi[j]] and close_lag[v, maxi[j]] < close_lag[v, maxi[-1]]:\n",
    "            # diff within 1%\n",
    "            if abs(close_lag[v, maxi[i]] - close_lag[v, mini[k]]) < 0.01 * close_lag[v, maxi[i]]:\n",
    "                prn.add(v)\n",
    "        i += 1\n",
    "        j += 1\n",
    "    v += 1"
   ]
  },
  {
   "cell_type": "code",
   "execution_count": 98,
   "metadata": {},
   "outputs": [
    {
     "data": {
      "text/plain": [
       "980"
      ]
     },
     "execution_count": 98,
     "metadata": {},
     "output_type": "execute_result"
    }
   ],
   "source": [
    "abcd = []\n",
    "for v in prn:    \n",
    "    if r[v] > 0.9 and close_lag[v,-1] == np.max(close_lag[v,:]):\n",
    "        abcd.append(v)\n",
    "len(abcd)"
   ]
  },
  {
   "cell_type": "code",
   "execution_count": 99,
   "metadata": {},
   "outputs": [],
   "source": [
    "v = 0\n",
    "rprn = set()\n",
    "while v < len(close_value):\n",
    "    mini = argrelextrema(close_lag[v,:], np.less)[0]\n",
    "    maxi = argrelextrema(close_lag[v,:], np.greater)[0]\n",
    "    i = 1; j = 0; k = 0\n",
    "    while i < len(maxi) and k < len(mini):\n",
    "        if maxi[j] < mini[k]:\n",
    "            i += 1\n",
    "            j += 1\n",
    "            continue\n",
    "        if close_lag[v, maxi[i]] < close_lag[v, maxi[j]] and close_lag[v, maxi[j]] < close_lag[v, maxi[0]]:\n",
    "            # diff within 1%\n",
    "            if abs(close_lag[v, maxi[i]] - close_lag[v, mini[k]]) < 0.01 * close_lag[v, maxi[i]]:\n",
    "                rprn.add(v)\n",
    "        k += 1\n",
    "    v += 1"
   ]
  },
  {
   "cell_type": "code",
   "execution_count": 100,
   "metadata": {},
   "outputs": [
    {
     "data": {
      "text/plain": [
       "153"
      ]
     },
     "execution_count": 100,
     "metadata": {},
     "output_type": "execute_result"
    }
   ],
   "source": [
    "dcba = []\n",
    "for v in rprn:    \n",
    "    if r[v] > 0.9 and close_lag[v,-1] == np.min(close_lag[v,:]):\n",
    "        dcba.append(v)\n",
    "len(dcba)"
   ]
  },
  {
   "cell_type": "code",
   "execution_count": 101,
   "metadata": {},
   "outputs": [],
   "source": [
    "oos = list(set([i for i in range(len(close_value))]) - prn - rprn)"
   ]
  },
  {
   "cell_type": "code",
   "execution_count": 102,
   "metadata": {},
   "outputs": [
    {
     "data": {
      "text/plain": [
       "965"
      ]
     },
     "execution_count": 102,
     "metadata": {},
     "output_type": "execute_result"
    }
   ],
   "source": [
    "s = prn - set(abcd) | rprn - set(dcba)\n",
    "for v in s:    \n",
    "    if r[v] < 0.5:\n",
    "        oos.append(v)\n",
    "len(oos)"
   ]
  },
  {
   "cell_type": "code",
   "execution_count": 103,
   "metadata": {},
   "outputs": [
    {
     "data": {
      "text/plain": [
       "<Figure size 360x360 with 0 Axes>"
      ]
     },
     "metadata": {},
     "output_type": "display_data"
    }
   ],
   "source": [
    "# def fig2img(fig, dpi=180):\n",
    "#     buf = io.BytesIO()\n",
    "#     fig.savefig(buf, format=\"png\", dpi=dpi)\n",
    "#     buf.seek(0)\n",
    "#     img_arr = np.frombuffer(buf.getvalue(), dtype=np.uint8)\n",
    "#     buf.close()\n",
    "#     img = cv2.imdecode(img_arr, 1)\n",
    "#     img = cv2.cvtColor(img, cv2.COLOR_BGR2GRAY)\n",
    "#     img = cv2.resize(img,(50,50),interpolation = cv2.INTER_AREA).astype(np.uint8)\n",
    "\n",
    "#     return img\n",
    "\n",
    "# data = []\n",
    "# plt.figure(figsize=(5,5))\n",
    "# for i in abcd:\n",
    "#     fig = plt.gcf()\n",
    "#     plt.plot(range(180), close_lag[i,:])\n",
    "#     plt.axis('off');\n",
    "#     data.append(fig2img(fig).flatten())\n",
    "#     plt.clf()\n",
    "# for i in dcba:\n",
    "#     fig = plt.gcf()\n",
    "#     plt.plot(range(180), close_lag[i,:])\n",
    "#     plt.axis('off');\n",
    "#     data.append(fig2img(fig).flatten())\n",
    "#     plt.clf()\n",
    "# for i in oos:\n",
    "#     fig = plt.gcf()\n",
    "#     plt.plot(range(180), close_lag[i,:])\n",
    "#     plt.axis('off');\n",
    "#     data.append(fig2img(fig).flatten())\n",
    "#     plt.clf()\n",
    "# data = np.array(data)\n",
    "# labels = np.array([0]*len(abcd) + [1]*len(dcba) + [2]*len(oos))\n",
    "# np.save('data', data)\n",
    "# np.save('labels', labels)"
   ]
  },
  {
   "cell_type": "code",
   "execution_count": 106,
   "metadata": {},
   "outputs": [],
   "source": [
    "data = np.load('img_data.npy')\n",
    "labels = np.load('img_labels.npy')"
   ]
  },
  {
   "cell_type": "code",
   "execution_count": 109,
   "metadata": {},
   "outputs": [
    {
     "data": {
      "text/plain": [
       "<matplotlib.image.AxesImage at 0x2b4feedcc0d0>"
      ]
     },
     "execution_count": 109,
     "metadata": {},
     "output_type": "execute_result"
    },
    {
     "data": {
      "image/png": "[encoded data removed]",
      "text/plain": [
       "<Figure size 432x288 with 1 Axes>"
      ]
     },
     "metadata": {
      "needs_background": "light"
     },
     "output_type": "display_data"
    }
   ],
   "source": []
  },
  {
   "cell_type": "code",
   "execution_count": null,
   "metadata": {},
   "outputs": [],
   "source": []
  }
 ],
 "metadata": {
  "interpreter": {
   "hash": "e9a4fb13b1248be0797f285598b88d760e91a53256e9f9e9795c7dafa40ee22e"
  },
  "kernelspec": {
   "display_name": "Tensorflow-2.4.1",
   "language": "python",
   "name": "tensorflow-2.4.1"
  },
  "language_info": {
   "codemirror_mode": {
    "name": "ipython",
    "version": 3
   },
   "file_extension": ".py",
   "mimetype": "text/x-python",
   "name": "python",
   "nbconvert_exporter": "python",
   "pygments_lexer": "ipython3",
   "version": "3.8.6"
  }
 },
 "nbformat": 4,
 "nbformat_minor": 4
}
