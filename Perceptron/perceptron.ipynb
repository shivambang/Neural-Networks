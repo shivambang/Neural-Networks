{
 "cells": [
  {
   "cell_type": "code",
   "execution_count": 2,
   "metadata": {},
   "outputs": [],
   "source": [
    "import numpy as np\n",
    "import cv2\n",
    "%matplotlib inline\n",
    "import matplotlib.pyplot as plt\n",
    "plt.style.use('seaborn-whitegrid')\n",
    "\n",
    "data=[]\n",
    "for i in range(10):\n",
    "    img = cv2.imread('dataset/%s.jpg' %i)\n",
    "    img_gray = cv2.cvtColor(img, cv2.COLOR_BGR2GRAY)\n",
    "    (threshi, final_img) = cv2.threshold(img_gray, 0, 1, cv2.THRESH_BINARY | cv2.THRESH_OTSU)\n",
    "    data.append(np.array(final_img, dtype=np.float32).flatten())\n",
    "\n"
   ]
  },
  {
   "cell_type": "code",
   "execution_count": 3,
   "metadata": {},
   "outputs": [],
   "source": [
    "import torch\n",
    "from torch.autograd import Variable"
   ]
  },
  {
   "cell_type": "code",
   "execution_count": 53,
   "metadata": {},
   "outputs": [],
   "source": [
    "x_data = Variable(torch.Tensor([data]))\n",
    "y_data = Variable(torch.Tensor([data]))\n",
    " \n",
    "class Perceptron(torch.nn.Module):\n",
    " \n",
    "    def __init__(self):\n",
    "        super(Perceptron, self).__init__()\n",
    "        self.linear = torch.nn.Linear(256, 256)  # One in and one out\n",
    "        self.sigmoid = torch.nn.Sigmoid()\n",
    "    def forward(self, x):\n",
    "        out = self.linear(x)\n",
    "        out = self.sigmoid(out)\n",
    "        return out\n",
    " \n",
    "# our model\n",
    "our_model = Perceptron()"
   ]
  },
  {
   "cell_type": "code",
   "execution_count": 5,
   "metadata": {},
   "outputs": [],
   "source": [
    "def generate_rescaled_inputs(data):\n",
    "    input_data = []\n",
    "    \n",
    "    for i in range(10):\n",
    "        p = data[i].reshape(16, 16)\n",
    "        p[p <= 0.5] = 0\n",
    "        p[p > 0.5] = 1\n",
    "        input_data.append(p)\n",
    "        \n",
    "    return input_data"
   ]
  },
  {
   "cell_type": "code",
   "execution_count": 6,
   "metadata": {},
   "outputs": [],
   "source": [
    "def generate_predictions(data):\n",
    "    predicted_output = []\n",
    "    \n",
    "    for i in range(10):\n",
    "        p = our_model(Variable(torch.Tensor([data[i]]))).cpu().detach().numpy()\n",
    "        p = p.reshape(16, 16)\n",
    "        p[p <= 0.5] = 0\n",
    "        p[p > 0.5] = 1\n",
    "        predicted_output.append(p)\n",
    "    \n",
    "    return predicted_output"
   ]
  },
  {
   "cell_type": "code",
   "execution_count": 7,
   "metadata": {},
   "outputs": [],
   "source": [
    "def calculate_total_black_pixels(array):\n",
    "    count = 0\n",
    "    for a in array:\n",
    "            count+= np.count_nonzero(a==0)\n",
    "    return count"
   ]
  },
  {
   "cell_type": "code",
   "execution_count": 8,
   "metadata": {},
   "outputs": [],
   "source": [
    "def calculate_total_white_pixels(array):\n",
    "    count = 0\n",
    "    for a in array:\n",
    "            count+= np.count_nonzero(a==1)\n",
    "    return count"
   ]
  },
  {
   "cell_type": "code",
   "execution_count": 15,
   "metadata": {},
   "outputs": [],
   "source": [
    "def calculate_matching_black_pixels(data1, data2):\n",
    "    match_ctr = 0\n",
    "    inp = data1.flatten()\n",
    "    pred = data2.flatten()\n",
    "    for i in range(256):\n",
    "        match_ctr += 1 if(inp[i]==0 and pred[i]==0) else 0\n",
    "    return match_ctr"
   ]
  },
  {
   "cell_type": "code",
   "execution_count": 10,
   "metadata": {},
   "outputs": [],
   "source": [
    "def calculate_mismatching_black_pixels(data1, data2):\n",
    "    mismatch_ctr = 0\n",
    "    inp = data1.flatten()\n",
    "    pred = data2.flatten()\n",
    "    for i in range(256):\n",
    "        mismatch_ctr += 1 if(inp[i]==1 and pred[i]==0) else 0\n",
    "    return mismatch_ctr"
   ]
  },
  {
   "cell_type": "code",
   "execution_count": 58,
   "metadata": {},
   "outputs": [],
   "source": [
    "def compute_error_metrics(input_data, predicted_output):\n",
    "    f_h = []\n",
    "    f_fa = []\n",
    "    \n",
    "    for ix, data in enumerate(input_data):\n",
    "        total_black_pixels = calculate_total_black_pixels(input_data[ix])\n",
    "        total_hits = calculate_matching_black_pixels(input_data[ix], predicted_output[ix])\n",
    "        fh_ratio = float(total_hits/total_black_pixels)\n",
    "        # print(\"Fraction of hits is \", total_hits, total_black_pixels)\n",
    "        f_h.append(fh_ratio)\n",
    "    \n",
    "    for ix, data in enumerate(input_data):\n",
    "        total_white_pixels = calculate_total_white_pixels(input_data[ix])\n",
    "        total_fa = calculate_mismatching_black_pixels(input_data[ix], predicted_output[ix])\n",
    "        ffa_ratio = float(total_fa/total_white_pixels)\n",
    "        # print(\"Fraction of false alarms is \", total_fa, total_white_pixels)\n",
    "        f_fa.append(ffa_ratio)\n",
    "    return f_h, f_fa\n",
    "    "
   ]
  },
  {
   "cell_type": "code",
   "execution_count": 13,
   "metadata": {},
   "outputs": [],
   "source": [
    "input_data = generate_rescaled_inputs(data)\n",
    "predicted_output = generate_predictions(data)"
   ]
  },
  {
   "cell_type": "code",
   "execution_count": 14,
   "metadata": {},
   "outputs": [
    {
     "name": "stdout",
     "output_type": "stream",
     "text": [
      "Fraction of hits is 1.0\n",
      "Fraction of hits is 1.0\n",
      "Fraction of hits is 1.0\n",
      "Fraction of hits is 1.0\n",
      "Fraction of hits is 1.0\n",
      "Fraction of hits is 1.0\n",
      "Fraction of hits is 1.0\n",
      "Fraction of hits is 1.0\n",
      "Fraction of hits is 1.0\n",
      "Fraction of hits is 1.0\n",
      "Fraction of false alarms is 0.0\n",
      "Fraction of false alarms is 0.0\n",
      "Fraction of false alarms is 0.0\n",
      "Fraction of false alarms is 0.0\n",
      "Fraction of false alarms is 0.0\n",
      "Fraction of false alarms is 0.0\n",
      "Fraction of false alarms is 0.0\n",
      "Fraction of false alarms is 0.0\n",
      "Fraction of false alarms is 0.0\n",
      "Fraction of false alarms is 0.0\n"
     ]
    }
   ],
   "source": [
    "fh, ffa = compute_error_metrics(input_data, predicted_output)"
   ]
  },
  {
   "cell_type": "code",
   "execution_count": 15,
   "metadata": {},
   "outputs": [
    {
     "data": {
      "image/png": "[encoded data removed]",
      "text/plain": [
       "<Figure size 432x288 with 1 Axes>"
      ]
     },
     "metadata": {},
     "output_type": "display_data"
    }
   ],
   "source": [
    "plt.scatter(ffa, fh, s=80, facecolors='none', edgecolors='r')\n",
    "plt.show()"
   ]
  },
  {
   "cell_type": "code",
   "execution_count": 12,
   "metadata": {},
   "outputs": [],
   "source": [
    "from random import sample\n",
    "def add_noise(data, sigma):\n",
    "    idx = sample(range(256), 25)\n",
    "    noise = np.random.normal(0, sigma, 25)\n",
    "    for i in range(25):\n",
    "        data[idx[i]] += noise[i]\n",
    "    return data\n",
    "def normalize(data):\n",
    "    mini = np.amin(data)\n",
    "    maxi = np.amax(data)\n",
    "    for i in range(256):\n",
    "        data[i] = (data[i] - mini)/(maxi - mini)\n",
    "    return data"
   ]
  },
  {
   "cell_type": "code",
   "execution_count": 43,
   "metadata": {},
   "outputs": [],
   "source": [
    "noisy_data = []\n",
    "for d in data:\n",
    "    nd = add_noise(np.copy(d), 0.1)\n",
    "    noisy_data.append(normalize(nd))\n"
   ]
  },
  {
   "cell_type": "code",
   "execution_count": 72,
   "metadata": {},
   "outputs": [
    {
     "name": "stdout",
     "output_type": "stream",
     "text": [
      "epoch 0\n",
      "ffa= 0.4863259592861266\n",
      "fh= 0.5106508252379998\n",
      "epoch 10\n",
      "ffa= 0.022611994269152204\n",
      "fh= 0.562208549969447\n",
      "epoch 20\n",
      "ffa= 0.015000013312030814\n",
      "fh= 0.7395153290952475\n",
      "epoch 30\n",
      "ffa= 0.0\n",
      "fh= 0.9922287390029325\n",
      "epoch 40\n",
      "ffa= 0.0\n",
      "fh= 1.0\n",
      "epoch 50\n",
      "ffa= 0.0\n",
      "fh= 1.0\n",
      "epoch 60\n",
      "ffa= 0.0\n",
      "fh= 1.0\n",
      "epoch 70\n",
      "ffa= 0.0\n",
      "fh= 1.0\n",
      "epoch 80\n",
      "ffa= 0.0\n",
      "fh= 1.0\n",
      "epoch 90\n",
      "ffa= 0.0\n",
      "fh= 1.0\n"
     ]
    }
   ],
   "source": [
    "our_model = Perceptron()\n",
    " \n",
    "criterion = torch.nn.MSELoss(size_average = False)\n",
    "optimizer = torch.optim.SGD(our_model.parameters(), lr = 0.01)\n",
    "for test in range(0, 100, 10):\n",
    "    for epoch in range(test):\n",
    "    \n",
    "        # Forward pass: Compute predicted y by passing\n",
    "        # x to the model\n",
    "        pred_y = our_model(x_data)\n",
    "    \n",
    "        # Compute and print loss\n",
    "        loss = criterion(pred_y, y_data)\n",
    "    \n",
    "        # Zero gradients, perform a backward pass,\n",
    "        # and update the weights.\n",
    "        optimizer.zero_grad()\n",
    "        loss.backward()\n",
    "        optimizer.step()\n",
    "    print('epoch {}'.format(test))\n",
    "    \n",
    "    target_values = generate_rescaled_inputs(data)\n",
    "    predicted_values = generate_predictions(noisy_data)\n",
    "    fh, ffa = compute_error_metrics(target_values, predicted_values)\n",
    "    print('ffa=', np.mean(ffa))\n",
    "    print('fh=', np.mean(fh))"
   ]
  },
  {
   "cell_type": "code",
   "execution_count": 67,
   "metadata": {},
   "outputs": [
    {
     "name": "stdout",
     "output_type": "stream",
     "text": [
      "[[[1.0, 1.0, 1.0, 1.0, 1.0, 1.0, 1.0, 1.0, 1.0, 1.0], [0.0, 0.0, 0.0, 0.0, 0.0, 0.0, 0.0, 0.0, 0.0, 0.0]], [[1.0, 1.0, 1.0, 1.0, 1.0, 1.0, 1.0, 1.0, 1.0, 1.0], [0.0, 0.0, 0.0, 0.0, 0.0, 0.0, 0.0, 0.0, 0.0, 0.0]], [[1.0, 1.0, 1.0, 1.0, 1.0, 1.0, 1.0, 1.0, 1.0, 1.0], [0.0, 0.0, 0.0, 0.0, 0.0, 0.0, 0.0, 0.0, 0.0, 0.0]], [[1.0, 1.0, 1.0, 1.0, 1.0, 1.0, 1.0, 1.0, 1.0, 1.0], [0.0, 0.0, 0.0, 0.0, 0.0, 0.0, 0.0, 0.0, 0.0, 0.0]], [[1.0, 1.0, 1.0, 1.0, 1.0, 1.0, 1.0, 1.0, 1.0, 1.0], [0.0, 0.0, 0.0, 0.0, 0.0, 0.0, 0.0, 0.0, 0.0, 0.0]], [[1.0, 1.0, 1.0, 1.0, 1.0, 1.0, 1.0, 1.0, 1.0, 1.0], [0.0, 0.0, 0.0, 0.0, 0.0, 0.0, 0.0, 0.0, 0.0, 0.0]], [[1.0, 1.0, 1.0, 1.0, 1.0, 1.0, 1.0, 1.0, 1.0, 1.0], [0.0, 0.0, 0.0, 0.0, 0.0, 0.0, 0.0, 0.0, 0.0, 0.0]], [[1.0, 1.0, 1.0, 1.0, 1.0, 1.0, 1.0, 1.0, 1.0, 1.0], [0.0, 0.0, 0.0, 0.0, 0.0, 0.0, 0.0, 0.0, 0.0, 0.0]], [[1.0, 1.0, 1.0, 1.0, 1.0, 1.0, 1.0, 1.0, 1.0, 1.0], [0.0, 0.0, 0.0, 0.0, 0.0, 0.0, 0.0, 0.0, 0.0, 0.0]]]\n"
     ]
    },
    {
     "data": {
      "image/png": "[encoded data removed]",
      "text/plain": [
       "<Figure size 720x720 with 90 Axes>"
      ]
     },
     "metadata": {},
     "output_type": "display_data"
    }
   ],
   "source": [
    "err = []\n",
    "sigma = [0.001, 0.002, 0.003, 0.005, 0.01, 0.02, 0.03, 0.05, 0.1]\n",
    "fig, axs = plt.subplots(10, 9, figsize=(10, 10))\n",
    "for s in range(9):\n",
    "    fig.suptitle(s)\n",
    "    noisy_data = []\n",
    "    for d in data:\n",
    "        nd = add_noise(np.copy(d), sigma[s])\n",
    "        noisy_data.append(normalize(nd))\n",
    "    target_values = generate_rescaled_inputs(data)\n",
    "    predicted_values = generate_predictions(noisy_data)\n",
    "    for i in range(10):\n",
    "        axs[i, s].imshow(predicted_values[i].reshape(16, 16))\n",
    "    fh, ffa = compute_error_metrics(target_values, predicted_values)\n",
    "    err.append([fh, ffa])\n",
    "print(err)"
   ]
  }
 ],
 "metadata": {
  "kernelspec": {
   "display_name": "Python 3 (ipykernel)",
   "language": "python",
   "name": "python3"
  },
  "language_info": {
   "codemirror_mode": {
    "name": "ipython",
    "version": 3
   },
   "file_extension": ".py",
   "mimetype": "text/x-python",
   "name": "python",
   "nbconvert_exporter": "python",
   "pygments_lexer": "ipython3",
   "version": "3.9.7"
  }
 },
 "nbformat": 4,
 "nbformat_minor": 4
}
