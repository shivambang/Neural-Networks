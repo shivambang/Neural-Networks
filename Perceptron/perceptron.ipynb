{
 "cells": [
  {
   "cell_type": "code",
   "execution_count": 284,
   "metadata": {},
   "outputs": [],
   "source": [
    "import numpy as np\n",
    "import cv2\n",
    "%matplotlib inline\n",
    "import matplotlib.pyplot as plt\n",
    "\n",
    "#read images\n",
    "data=[]\n",
    "for i in range(10):\n",
    "    img = cv2.imread('dataset/%s.jpg' %i)\n",
    "    img_gray = cv2.cvtColor(img, cv2.COLOR_BGR2GRAY)\n",
    "    (threshi, final_img) = cv2.threshold(img_gray, 0, 1, cv2.THRESH_BINARY | cv2.THRESH_OTSU)\n",
    "    data.append(np.array(final_img, dtype=np.float32).flatten())\n",
    "\n"
   ]
  },
  {
   "cell_type": "code",
   "execution_count": 285,
   "metadata": {},
   "outputs": [],
   "source": [
    "import torch\n",
    "from torch.autograd import Variable"
   ]
  },
  {
   "cell_type": "code",
   "execution_count": 286,
   "metadata": {},
   "outputs": [],
   "source": [
    "x_data = Variable(torch.Tensor([data]))\n",
    "y_data = Variable(torch.Tensor([data]))\n",
    " \n",
    "#single layer perceptron\n",
    "class Perceptron(torch.nn.Module):\n",
    " \n",
    "    def __init__(self):\n",
    "        super(Perceptron, self).__init__()\n",
    "        self.linear = torch.nn.Linear(256, 256)  # 256 in and 256 out\n",
    "        self.sigmoid = torch.nn.Sigmoid() # activation function\n",
    "    def forward(self, x):\n",
    "        out = self.linear(x)\n",
    "        out = self.sigmoid(out)\n",
    "        return out\n",
    " \n",
    "slp_model = Perceptron()"
   ]
  },
  {
   "cell_type": "code",
   "execution_count": 287,
   "metadata": {},
   "outputs": [],
   "source": [
    "#multi layer perceptron with a fully connected hidden layer\n",
    "class MLP(torch.nn.Module):\n",
    " \n",
    "    def __init__(self):\n",
    "        super(MLP, self).__init__()\n",
    "        self.linear = torch.nn.Linear(256, 256)  # 256 in and 256 out\n",
    "        self.relu = torch.nn.ReLU()\n",
    "        self.hidden = torch.nn.Linear(256, 256)  # 256 in and 256 out\n",
    "        self.sigmoid = torch.nn.Sigmoid()\n",
    "    def forward(self, x):\n",
    "        inp = self.linear(x)\n",
    "        hid = self.relu(inp)\n",
    "        hid = self.hidden(hid)\n",
    "        out = self.sigmoid(hid)\n",
    "        return out\n",
    " \n",
    "mlp_model = MLP()"
   ]
  },
  {
   "cell_type": "code",
   "execution_count": 288,
   "metadata": {},
   "outputs": [],
   "source": [
    "#convert numpy array to 16x16 binary image\n",
    "def generate_rescaled_inputs(data):\n",
    "    input_data = []\n",
    "    \n",
    "    for i in range(10):\n",
    "        p = data[i].reshape(16, 16)\n",
    "        p[p <= 0.5] = 0\n",
    "        p[p > 0.5] = 1\n",
    "        input_data.append(p)\n",
    "        \n",
    "    return input_data"
   ]
  },
  {
   "cell_type": "code",
   "execution_count": 289,
   "metadata": {},
   "outputs": [],
   "source": [
    "def generate_predictions(data, m):\n",
    "    predicted_output = []\n",
    "    \n",
    "    for i in range(10):\n",
    "        if m == 0:\n",
    "            p = slp_model(Variable(torch.Tensor([data[i]]))).cpu().detach().numpy()\n",
    "        else:\n",
    "            p = mlp_model(Variable(torch.Tensor([data[i]]))).cpu().detach().numpy()\n",
    "        p = p.reshape(16, 16)\n",
    "        p[p <= 0.5] = 0\n",
    "        p[p > 0.5] = 1\n",
    "        predicted_output.append(p)\n",
    "    \n",
    "    return predicted_output"
   ]
  },
  {
   "cell_type": "code",
   "execution_count": 290,
   "metadata": {},
   "outputs": [],
   "source": [
    "def calculate_total_black_pixels(array):\n",
    "    count = 0\n",
    "    for a in array:\n",
    "            count+= np.count_nonzero(a==0)\n",
    "    return count"
   ]
  },
  {
   "cell_type": "code",
   "execution_count": 291,
   "metadata": {},
   "outputs": [],
   "source": [
    "def calculate_total_white_pixels(array):\n",
    "    count = 0\n",
    "    for a in array:\n",
    "            count+= np.count_nonzero(a==1)\n",
    "    return count"
   ]
  },
  {
   "cell_type": "code",
   "execution_count": 292,
   "metadata": {},
   "outputs": [],
   "source": [
    "def calculate_matching_black_pixels(data1, data2):\n",
    "    match_ctr = 0\n",
    "    inp = data1.flatten()\n",
    "    pred = data2.flatten()\n",
    "    for i in range(256):\n",
    "        match_ctr += 1 if(inp[i]==0 and pred[i]==0) else 0\n",
    "    return match_ctr"
   ]
  },
  {
   "cell_type": "code",
   "execution_count": 293,
   "metadata": {},
   "outputs": [],
   "source": [
    "def calculate_mismatching_black_pixels(data1, data2):\n",
    "    mismatch_ctr = 0\n",
    "    inp = data1.flatten()\n",
    "    pred = data2.flatten()\n",
    "    for i in range(256):\n",
    "        mismatch_ctr += 1 if(inp[i]==1 and pred[i]==0) else 0\n",
    "    return mismatch_ctr"
   ]
  },
  {
   "cell_type": "code",
   "execution_count": 294,
   "metadata": {},
   "outputs": [],
   "source": [
    "def compute_error_metrics(input_data, predicted_output):\n",
    "    f_h = []\n",
    "    f_fa = []\n",
    "    \n",
    "    for ix, data in enumerate(input_data):\n",
    "        total_black_pixels = calculate_total_black_pixels(input_data[ix])\n",
    "        total_hits = calculate_matching_black_pixels(input_data[ix], predicted_output[ix])\n",
    "        fh_ratio = float(total_hits/total_black_pixels)\n",
    "        # print(\"Fraction of hits is \", total_hits, total_black_pixels)\n",
    "        f_h.append(fh_ratio)\n",
    "    \n",
    "    for ix, data in enumerate(input_data):\n",
    "        total_white_pixels = calculate_total_white_pixels(input_data[ix])\n",
    "        total_fa = calculate_mismatching_black_pixels(input_data[ix], predicted_output[ix])\n",
    "        ffa_ratio = float(total_fa/total_white_pixels)\n",
    "        # print(\"Fraction of false alarms is \", total_fa, total_white_pixels)\n",
    "        f_fa.append(ffa_ratio)\n",
    "    return f_h, f_fa\n",
    "    "
   ]
  },
  {
   "cell_type": "code",
   "execution_count": 295,
   "metadata": {},
   "outputs": [],
   "source": [
    "from random import sample\n",
    "def add_noise(data, sigma):\n",
    "    idx = sample(range(256), 25)\n",
    "    noise = np.random.normal(0, sigma, 25)\n",
    "    for i in range(25):\n",
    "        data[idx[i]] += noise[i]\n",
    "    return data\n",
    "def normalize(data):\n",
    "    mini = np.amin(data)\n",
    "    maxi = np.amax(data)\n",
    "    for i in range(256):\n",
    "        data[i] = (data[i] - mini)/(maxi - mini)\n",
    "    return data"
   ]
  },
  {
   "cell_type": "code",
   "execution_count": 296,
   "metadata": {},
   "outputs": [],
   "source": [
    "noisy_data = []\n",
    "for d in data:\n",
    "    nd = add_noise(np.copy(d), 0.1)\n",
    "    noisy_data.append(normalize(nd))\n"
   ]
  },
  {
   "cell_type": "code",
   "execution_count": 297,
   "metadata": {},
   "outputs": [
    {
     "name": "stderr",
     "output_type": "stream",
     "text": [
      "/Users/shivambang/miniforge3/lib/python3.9/site-packages/torch/nn/_reduction.py:42: UserWarning: size_average and reduce args will be deprecated, please use reduction='sum' instead.\n",
      "  warnings.warn(warning.format(ret))\n"
     ]
    },
    {
     "data": {
      "text/plain": [
       "<matplotlib.legend.Legend at 0x17e019e20>"
      ]
     },
     "execution_count": 297,
     "metadata": {},
     "output_type": "execute_result"
    },
    {
     "data": {
      "image/png": "[encoded data removed]",
      "text/plain": [
       "<Figure size 432x288 with 1 Axes>"
      ]
     },
     "metadata": {
      "needs_background": "light"
     },
     "output_type": "display_data"
    }
   ],
   "source": [
    "fh, ffa = [], []\n",
    "for test in range(0, 200, 10):\n",
    "    slp_model = Perceptron()\n",
    "    \n",
    "    criterion = torch.nn.MSELoss(size_average = False)\n",
    "    optimizer = torch.optim.SGD(slp_model.parameters(), lr = 0.01)\n",
    "    for epoch in range(test):\n",
    "    \n",
    "        # Forward pass: Compute predicted y by passing x to the model\n",
    "        pred_y = slp_model(x_data)\n",
    "    \n",
    "        # Compute loss\n",
    "        loss = criterion(pred_y, y_data)\n",
    "    \n",
    "        # Zero gradients, perform a backward pass, and update the weights.\n",
    "        optimizer.zero_grad()\n",
    "        loss.backward()\n",
    "        optimizer.step()\n",
    "    \n",
    "    target_values = generate_rescaled_inputs(data)\n",
    "    predicted_values = generate_predictions(data, 0)\n",
    "    h, a = compute_error_metrics(target_values, predicted_values)\n",
    "    ffa += [np.mean(a)]\n",
    "    fh += [np.mean(h)]\n",
    "plt.figure()\n",
    "plt.plot(range(0, 200, 10), ffa, label='ffa')\n",
    "plt.plot(range(0, 200, 10), fh, label='fh')\n",
    "plt.legend()"
   ]
  },
  {
   "cell_type": "code",
   "execution_count": 298,
   "metadata": {},
   "outputs": [],
   "source": [
    "#The ffa and fh for input data becomes stable around 100 epochs so number of epochs chosen = 100\n",
    "slp_model = Perceptron()\n",
    "\n",
    "criterion = torch.nn.MSELoss(size_average = False)\n",
    "optimizer = torch.optim.SGD(slp_model.parameters(), lr = 0.01)\n",
    "for epoch in range(100):\n",
    "\n",
    "    # Forward pass: Compute predicted y by passing x to the model\n",
    "    pred_y = slp_model(x_data)\n",
    "\n",
    "    # Compute loss\n",
    "    loss = criterion(pred_y, y_data)\n",
    "\n",
    "    # Zero gradients, perform a backward pass, and update the weights.\n",
    "    optimizer.zero_grad()\n",
    "    loss.backward()\n",
    "    optimizer.step()"
   ]
  },
  {
   "cell_type": "code",
   "execution_count": 299,
   "metadata": {},
   "outputs": [
    {
     "data": {
      "image/png": "[encoded data removed]",
      "text/plain": [
       "<Figure size 432x288 with 1 Axes>"
      ]
     },
     "metadata": {
      "needs_background": "light"
     },
     "output_type": "display_data"
    }
   ],
   "source": [
    "input_data = generate_rescaled_inputs(data)\n",
    "predicted_output = generate_predictions(data, 0)\n",
    "fh, ffa = compute_error_metrics(input_data, predicted_output)\n",
    "plt.scatter(ffa, fh, s=80, facecolors='none', edgecolors='r')\n",
    "plt.show()"
   ]
  },
  {
   "cell_type": "code",
   "execution_count": 332,
   "metadata": {},
   "outputs": [
    {
     "data": {
      "text/plain": [
       "<matplotlib.legend.Legend at 0x1792cfa60>"
      ]
     },
     "execution_count": 332,
     "metadata": {},
     "output_type": "execute_result"
    },
    {
     "data": {
      "image/png": "[encoded data removed]",
      "text/plain": [
       "<Figure size 720x720 with 1 Axes>"
      ]
     },
     "metadata": {
      "needs_background": "light"
     },
     "output_type": "display_data"
    }
   ],
   "source": [
    "ffa, fh = [], []\n",
    "sigma = [0.001, 0.002, 0.003, 0.005, 0.01, 0.02, 0.03, 0.05, 0.1, 0.2, 0.3, 0.5, 1]\n",
    "for s in range(13):\n",
    "    noisy_data = []\n",
    "    for d in data:\n",
    "        nd = add_noise(np.copy(d), sigma[s])\n",
    "        noisy_data.append(normalize(nd))\n",
    "    target_values = generate_rescaled_inputs(data)\n",
    "    predicted_values = generate_predictions(noisy_data, 0)\n",
    "    # for i in range(10):\n",
    "    #     axs[i, s].imshow(predicted_values[i].reshape(16, 16))\n",
    "    h, a = compute_error_metrics(target_values, predicted_values)\n",
    "    ffa += a\n",
    "    fh += h\n",
    "x = [[s]*10 for s in sigma]\n",
    "plt.figure(figsize=(10, 10))\n",
    "plt.title((\"Graph of Fh and Ffa vs. Noise Standard Deviation\\n\"\n",
    "    \"for noise-corrupted Numeric Imagery (16x16 pixels)\\n\"\n",
    "    \"for Autoassociative Single-Layer Perceptron\"), loc='center', wrap=True)\n",
    "plt.xlabel('Gaussian Noise Level (stdev, at 10 pct xsecn)', size=15)\n",
    "plt.ylabel('Fh and Ffa', size=15)\n",
    "plt.xscale('log')\n",
    "plt.xticks(sigma, sigma)\n",
    "plt.scatter(x, fh, label='fh', facecolors='none', edgecolors='black')\n",
    "plt.scatter(x, ffa, label='ffa', facecolors='black', edgecolors='none')\n",
    "plt.legend()"
   ]
  },
  {
   "cell_type": "code",
   "execution_count": 301,
   "metadata": {},
   "outputs": [
    {
     "data": {
      "text/plain": [
       "<matplotlib.legend.Legend at 0x17cec6f70>"
      ]
     },
     "execution_count": 301,
     "metadata": {},
     "output_type": "execute_result"
    },
    {
     "data": {
      "image/png": "[encoded data removed]",
      "text/plain": [
       "<Figure size 432x288 with 1 Axes>"
      ]
     },
     "metadata": {
      "needs_background": "light"
     },
     "output_type": "display_data"
    }
   ],
   "source": [
    "fh, ffa = [], []\n",
    "for test in range(0, 600, 10):\n",
    "    mlp_model = MLP()\n",
    "    \n",
    "    criterion = torch.nn.MSELoss(size_average = False)\n",
    "    optimizer = torch.optim.SGD(mlp_model.parameters(), lr = 0.001)\n",
    "    for epoch in range(test):\n",
    "    \n",
    "        # Forward pass: Compute predicted y by passing x to the model\n",
    "        pred_y = mlp_model(x_data)\n",
    "    \n",
    "        # Compute loss\n",
    "        loss = criterion(pred_y, y_data)\n",
    "    \n",
    "        # Zero gradients, perform a backward pass, and update the weights.\n",
    "        optimizer.zero_grad()\n",
    "        loss.backward()\n",
    "        optimizer.step()\n",
    "    \n",
    "    target_values = generate_rescaled_inputs(data)\n",
    "    predicted_values = generate_predictions(data, 1)\n",
    "    h, a = compute_error_metrics(target_values, predicted_values)\n",
    "    ffa += [np.mean(a)]\n",
    "    fh += [np.mean(h)]\n",
    "plt.figure()\n",
    "plt.plot(range(0, 600, 10), ffa, label='ffa')\n",
    "plt.plot(range(0, 600, 10), fh, label='fh')\n",
    "plt.legend()"
   ]
  },
  {
   "cell_type": "code",
   "execution_count": 302,
   "metadata": {},
   "outputs": [],
   "source": [
    "#The ffa and fh for input data becomes stable around 500 epochs so number of epochs chosen = 500\n",
    "mlp_model = MLP()\n",
    "\n",
    "criterion = torch.nn.MSELoss(size_average = False)\n",
    "optimizer = torch.optim.SGD(mlp_model.parameters(), lr = 0.001)\n",
    "for epoch in range(500):\n",
    "\n",
    "    # Forward pass: Compute predicted y by passing x to the model\n",
    "    pred_y = mlp_model(x_data)\n",
    "\n",
    "    # Compute loss\n",
    "    loss = criterion(pred_y, y_data)\n",
    "\n",
    "    # Zero gradients, perform a backward pass, and update the weights.\n",
    "    optimizer.zero_grad()\n",
    "    loss.backward()\n",
    "    optimizer.step()"
   ]
  },
  {
   "cell_type": "code",
   "execution_count": 333,
   "metadata": {},
   "outputs": [
    {
     "data": {
      "text/plain": [
       "<matplotlib.legend.Legend at 0x179a80f10>"
      ]
     },
     "execution_count": 333,
     "metadata": {},
     "output_type": "execute_result"
    },
    {
     "data": {
      "image/png": "[encoded data removed]",
      "text/plain": [
       "<Figure size 720x720 with 1 Axes>"
      ]
     },
     "metadata": {
      "needs_background": "light"
     },
     "output_type": "display_data"
    }
   ],
   "source": [
    "fh, ffa = [], []\n",
    "sigma = [0.001, 0.002, 0.003, 0.005, 0.01, 0.02, 0.03, 0.05, 0.1, 0.2, 0.3, 0.5, 1]\n",
    "for s in range(13):\n",
    "    noisy_data = []\n",
    "    for d in data:\n",
    "        nd = add_noise(np.copy(d), sigma[s])\n",
    "        noisy_data.append(normalize(nd))\n",
    "    target_values = generate_rescaled_inputs(data)\n",
    "    predicted_values = generate_predictions(noisy_data, 1)\n",
    "    # for i in range(10):\n",
    "    #     axs[i, s].imshow(predicted_values[i].reshape(16, 16))\n",
    "    h, a = compute_error_metrics(target_values, predicted_values)\n",
    "    ffa += a\n",
    "    fh += h\n",
    "x = [[s]*10 for s in sigma]\n",
    "plt.figure(figsize=(10, 10))\n",
    "plt.title((\"Graph of Fh and Ffa vs. Noise Standard Deviation\\n\"\n",
    "    \"for noise-corrupted Numeric Imagery (16x16 pixels)\\n\"\n",
    "    \"for Autoassociative Multi-Layer Perceptron\"), loc='center', wrap=True)\n",
    "plt.xlabel('Gaussian Noise Level (stdev, at 10 pct xsecn)', size=15)\n",
    "plt.ylabel('Fh and Ffa', size=15)\n",
    "plt.xscale('log')\n",
    "plt.xticks(sigma, sigma)\n",
    "plt.scatter(x, fh, label='fh', facecolors='none', edgecolors='black')\n",
    "plt.scatter(x, ffa, label='ffa', facecolors='black', edgecolors='none')\n",
    "plt.legend()"
   ]
  }
 ],
 "metadata": {
  "kernelspec": {
   "display_name": "Python 3 (ipykernel)",
   "language": "python",
   "name": "python3"
  },
  "language_info": {
   "codemirror_mode": {
    "name": "ipython",
    "version": 3
   },
   "file_extension": ".py",
   "mimetype": "text/x-python",
   "name": "python",
   "nbconvert_exporter": "python",
   "pygments_lexer": "ipython3",
   "version": "3.9.7"
  }
 },
 "nbformat": 4,
 "nbformat_minor": 4
}
